{
 "cells": [
  {
   "cell_type": "code",
   "execution_count": null,
   "id": "8ff1da73",
   "metadata": {},
   "outputs": [],
   "source": [
    "Write a Python Program to Display Fibonacci Sequence Using Recursion?"
   ]
  },
  {
   "cell_type": "code",
   "execution_count": 10,
   "id": "83338080",
   "metadata": {},
   "outputs": [
    {
     "name": "stdout",
     "output_type": "stream",
     "text": [
      "Enter no of terms required in fibonacci series: 10\n",
      "Fibonacci sequence: \n",
      "0\n",
      "1\n",
      "1\n",
      "2\n",
      "3\n",
      "5\n",
      "8\n",
      "13\n",
      "21\n",
      "34\n"
     ]
    }
   ],
   "source": [
    "def fib_rec(num):\n",
    "    if num <= 1:\n",
    "        return num\n",
    "    else:\n",
    "        return(fib_rec(num-1) + fib_rec(num-2))\n",
    "\n",
    "num_of_terms = int(input(\"Enter no of terms required in fibonacci series: \"))\n",
    "\n",
    "\n",
    "if num_of_terms <= 0:\n",
    "    print(\"Plese enter a positive integer\")\n",
    "else:\n",
    "    print(\"Fibonacci sequence: \")\n",
    "    for i in range(num_of_terms):\n",
    "        print(fib_rec(i))"
   ]
  },
  {
   "cell_type": "code",
   "execution_count": null,
   "id": "bbeaadac",
   "metadata": {},
   "outputs": [],
   "source": [
    "Write a Python Program to Find Factorial of Number Using Recursion?"
   ]
  },
  {
   "cell_type": "code",
   "execution_count": 11,
   "id": "0941f12e",
   "metadata": {},
   "outputs": [],
   "source": [
    "def factorial_rec(num):\n",
    "    fact = 1\n",
    "    if num < 0:\n",
    "        print(\"factorial doesnot exist for negative number\")\n",
    "    elif num == 1:\n",
    "        return num\n",
    "    else:\n",
    "        return num*factorial_rec(num-1)"
   ]
  },
  {
   "cell_type": "code",
   "execution_count": 12,
   "id": "6f4ea3d3",
   "metadata": {},
   "outputs": [
    {
     "data": {
      "text/plain": [
       "362880"
      ]
     },
     "execution_count": 12,
     "metadata": {},
     "output_type": "execute_result"
    }
   ],
   "source": [
    "factorial_rec(9)"
   ]
  },
  {
   "cell_type": "code",
   "execution_count": null,
   "id": "67cc52e9",
   "metadata": {},
   "outputs": [],
   "source": [
    "Write a Python Program to calculate your Body Mass Index?"
   ]
  },
  {
   "cell_type": "code",
   "execution_count": 13,
   "id": "1eae90dd",
   "metadata": {},
   "outputs": [
    {
     "name": "stdout",
     "output_type": "stream",
     "text": [
      "Enter your height in cm: 170\n",
      "Enter your weight in kg: 60\n",
      "Your BMI Index is:  20.761245674740486\n"
     ]
    }
   ],
   "source": [
    "height = float(input(\"Enter your height in cm: \"))\n",
    "weight = float(input(\"Enter your weight in kg: \"))\n",
    "BMI = weight / (height/100)**2\n",
    "\n",
    "print(\"Your BMI Index is: \",BMI)\n"
   ]
  },
  {
   "cell_type": "code",
   "execution_count": null,
   "id": "1aec5f0a",
   "metadata": {},
   "outputs": [],
   "source": [
    "Write a Python Program to calculate the natural logarithm of any number?"
   ]
  },
  {
   "cell_type": "code",
   "execution_count": 14,
   "id": "4b0678ad",
   "metadata": {},
   "outputs": [
    {
     "name": "stdout",
     "output_type": "stream",
     "text": [
      "Enter a number 0\n",
      "enter positive number\n"
     ]
    }
   ],
   "source": [
    "import math\n",
    "num = float(input(\"Enter a number \"))\n",
    "if num > 0:\n",
    "    print(\"Log of number is: \", math.log(num))\n",
    "else:\n",
    "    print(\"enter positive number\")"
   ]
  },
  {
   "cell_type": "code",
   "execution_count": null,
   "id": "d763ef93",
   "metadata": {},
   "outputs": [],
   "source": [
    "Write a Python Program for cube sum of first n natural numbers?"
   ]
  },
  {
   "cell_type": "code",
   "execution_count": 16,
   "id": "f7837e1e",
   "metadata": {},
   "outputs": [
    {
     "name": "stdout",
     "output_type": "stream",
     "text": [
      "enter n natural number10\n",
      "Cube of first n natural number is 3025\n"
     ]
    }
   ],
   "source": [
    "n = int(input(\"enter n natural number\"))\n",
    "sum = 0\n",
    "for i in range(1,n+1):\n",
    "    sum = sum + pow(i,3)\n",
    "print(\"Cube of first n natural number is\" ,sum)"
   ]
  },
  {
   "cell_type": "code",
   "execution_count": null,
   "id": "eeec2a61",
   "metadata": {},
   "outputs": [],
   "source": []
  }
 ],
 "metadata": {
  "kernelspec": {
   "display_name": "Python 3 (ipykernel)",
   "language": "python",
   "name": "python3"
  },
  "language_info": {
   "codemirror_mode": {
    "name": "ipython",
    "version": 3
   },
   "file_extension": ".py",
   "mimetype": "text/x-python",
   "name": "python",
   "nbconvert_exporter": "python",
   "pygments_lexer": "ipython3",
   "version": "3.9.7"
  }
 },
 "nbformat": 4,
 "nbformat_minor": 5
}
